{
 "cells": [
  {
   "cell_type": "code",
   "execution_count": null,
   "id": "1b0d8496",
   "metadata": {},
   "outputs": [],
   "source": [
    "Assigment\n",
    "\n",
    "arr1 = [\"jake\", \"kate\", \"leonard\"]\n",
    "arr2 = [\"martin\", \"ben\", \"faith\"]\n",
    "\n",
    "#####output\n",
    "jaKe martiN\n",
    "kaTe beN\n",
    "leOnard faitH"
   ]
  },
  {
   "cell_type": "code",
   "execution_count": 133,
   "id": "a26da138",
   "metadata": {},
   "outputs": [
    {
     "name": "stdout",
     "output_type": "stream",
     "text": [
      "['jaKe']\n",
      "['jaKe', 'kaTe']\n",
      "['jaKe', 'kaTe', 'leOnard']\n",
      "['martiN']\n",
      "['martiN', 'beN']\n",
      "['martiN', 'beN', 'faitH']\n",
      "########### RESULT OF ASSIGNMENT ###########\n",
      "jaKe martiN\n",
      "kaTe beN\n",
      "leOnard faitH\n"
     ]
    }
   ],
   "source": [
    "arr1 = [\"jake\", \"kate\", \"leonard\"]\n",
    "arr2 = [\"martin\", \"ben\", \"faith\"]\n",
    "\n",
    "#Processing for arr1\n",
    "finalWord = []\n",
    "for i in range(len(arr1)):\n",
    "    x = arr1[i]  # get each word \n",
    "    newWord = [] # create empty list to warehouse processed word\n",
    "    for i in range(len(x)):\n",
    "        y = x[i]\n",
    "        if i == 2: #since the index position is 2 for the arr1 that is to be processed\n",
    "            newWord.append(y.upper())\n",
    "        elif i < 2:\n",
    "            newWord.append(y.lower())\n",
    "        else:\n",
    "             newWord.append(y.lower())\n",
    "    newWord2 = \"\".join(newWord)\n",
    "    finalWord.append(newWord2)\n",
    "    print(finalWord)\n",
    "    \n",
    "# Processing for arr2    \n",
    "finalWordArr2 = []\n",
    "for i in range(len(arr2)):\n",
    "    x = arr2[i]  # get each word\n",
    "    newWord = [] # create empty list to warehouse processed word\n",
    "    for i in range(len(x)):\n",
    "        y = x[i]\n",
    "        if i == len(x)-1:\n",
    "             newWord.append(y.upper())\n",
    "        else:\n",
    "             newWord.append(y.lower())\n",
    "    newWord2 = \"\".join(newWord)\n",
    "    finalWordArr2.append(newWord2)\n",
    "    print(finalWordArr2)\n",
    "print(\"########### RESULT OF ASSIGNMENT ###########\")    \n",
    "print(finalWord[0], finalWordArr2[0]) \n",
    "print(finalWord[1], finalWordArr2[1])\n",
    "print(finalWord[2], finalWordArr2[2])"
   ]
  },
  {
   "cell_type": "code",
   "execution_count": null,
   "id": "b1d58c9f",
   "metadata": {},
   "outputs": [],
   "source": []
  },
  {
   "cell_type": "code",
   "execution_count": null,
   "id": "8544be7b",
   "metadata": {},
   "outputs": [],
   "source": []
  }
 ],
 "metadata": {
  "kernelspec": {
   "display_name": "Python 3 (ipykernel)",
   "language": "python",
   "name": "python3"
  },
  "language_info": {
   "codemirror_mode": {
    "name": "ipython",
    "version": 3
   },
   "file_extension": ".py",
   "mimetype": "text/x-python",
   "name": "python",
   "nbconvert_exporter": "python",
   "pygments_lexer": "ipython3",
   "version": "3.9.12"
  }
 },
 "nbformat": 4,
 "nbformat_minor": 5
}
