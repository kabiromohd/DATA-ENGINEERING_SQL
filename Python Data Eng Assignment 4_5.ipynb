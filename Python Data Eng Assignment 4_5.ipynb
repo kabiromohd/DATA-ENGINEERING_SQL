{
 "cells": [
  {
   "cell_type": "code",
   "execution_count": null,
   "id": "f36693eb",
   "metadata": {},
   "outputs": [],
   "source": [
    "#Assignment 4.5"
   ]
  },
  {
   "cell_type": "code",
   "execution_count": 3,
   "id": "accfe13d",
   "metadata": {},
   "outputs": [
    {
     "name": "stdout",
     "output_type": "stream",
     "text": [
      "Length in Centimeter? : -2\n",
      "Invalid Entry\n"
     ]
    }
   ],
   "source": [
    "#1\n",
    "LengthCentimeter = float(input(\"Length in Centimeter? : \"))\n",
    "if LengthCentimeter < 0:\n",
    "    print(\"Invalid Entry\")\n",
    "else:\n",
    "    print(f'{LengthCentimeter} Centimeters is equivalent to {round(float(LengthCentimeter)/2.54, 3)} Inches')"
   ]
  },
  {
   "cell_type": "code",
   "execution_count": 61,
   "id": "254d4acc",
   "metadata": {},
   "outputs": [
    {
     "name": "stdout",
     "output_type": "stream",
     "text": [
      "Enter Temperature Value: 90\n",
      "Enter Unit of Temperature (f/c): f\n",
      "Equivalent to: 32.22 Degrees Celcuis\n"
     ]
    }
   ],
   "source": [
    "#2 and 3\n",
    "def CelcTempClassifier(temp):\n",
    "    if temp < -273.15:\n",
    "        print(\"Invalid Temperature -- Below Absolute Zero Temperature\")\n",
    "    elif temp == -273.15:\n",
    "        print(\"Absolute Zero Temperture\")\n",
    "    elif temp == 0:\n",
    "        print(\"Temperature at Freezing Point\")\n",
    "    elif temp > 0 and temp < 100:\n",
    "        print(\"Temperature within Normal Range\")\n",
    "    elif temp == 100:\n",
    "        print(\"Temperature at Boiling Point\")\n",
    "    else :\n",
    "        print(\"Temperature Above Boiling Point\")\n",
    "    return\n",
    "    \n",
    "def ConvertToCelcTemp(temp, unit):\n",
    "        celcuis_val = (5/9) * (temp - 32)\n",
    "        print(f\"Equivalent to: {round(celcuis_val, 2)} Degrees Celcuis\")\n",
    "        return celcuis_val\n",
    "    \n",
    "def ConvertToFahrTemp(temp, unit):\n",
    "        fahr = (9/5*temp) + 32\n",
    "        print(f\"Equivalent to: {round(fahr, 3)} Degrees Fahrenheit\")\n",
    "        return fahr\n",
    "\n",
    "#Main Program Body\n",
    "temp = float(input(\"Enter Temperature Value: \"))\n",
    "unit = input(\"Enter Unit of Temperature (f/c): \").lower()\n",
    "\n",
    "if unit == \"c\":\n",
    "    ConvertToFahrTemp(temp, unit)\n",
    "    CelcTempClassifier(temp)\n",
    "elif unit == \"f\":\n",
    "     ConvertToCelcTemp(temp, unit)\n",
    "else:\n",
    "    print(\"Unknown Temperature Unit Input\")"
   ]
  },
  {
   "cell_type": "code",
   "execution_count": 4,
   "id": "293ede72",
   "metadata": {},
   "outputs": [
    {
     "name": "stdout",
     "output_type": "stream",
     "text": [
      "Enter Credit Taken by Student: 56\n",
      "Student is a Junior\n"
     ]
    }
   ],
   "source": [
    "#4\n",
    "studCredit = float(input(\"Enter Credit Taken by Student: \"))\n",
    "\n",
    "if studCredit <= 23:\n",
    "    print(\"Student is a Freshman\")\n",
    "elif studCredit >= 24 and studCredit <= 53:\n",
    "    print(\"Student is a Sophomore\")\n",
    "elif studCredit >= 54 and studCredit <= 83:\n",
    "    print(\"Student is a Junior\")\n",
    "else:\n",
    "    print(\"Student is a Senior\")"
   ]
  },
  {
   "cell_type": "code",
   "execution_count": null,
   "id": "034cf9ca",
   "metadata": {},
   "outputs": [],
   "source": []
  },
  {
   "cell_type": "code",
   "execution_count": null,
   "id": "a6e3f9d4",
   "metadata": {},
   "outputs": [],
   "source": []
  },
  {
   "cell_type": "code",
   "execution_count": null,
   "id": "2937bf42",
   "metadata": {},
   "outputs": [],
   "source": []
  },
  {
   "cell_type": "code",
   "execution_count": null,
   "id": "72c02829",
   "metadata": {},
   "outputs": [],
   "source": []
  },
  {
   "cell_type": "code",
   "execution_count": null,
   "id": "9ab1fd67",
   "metadata": {},
   "outputs": [],
   "source": []
  }
 ],
 "metadata": {
  "kernelspec": {
   "display_name": "Python 3 (ipykernel)",
   "language": "python",
   "name": "python3"
  },
  "language_info": {
   "codemirror_mode": {
    "name": "ipython",
    "version": 3
   },
   "file_extension": ".py",
   "mimetype": "text/x-python",
   "name": "python",
   "nbconvert_exporter": "python",
   "pygments_lexer": "ipython3",
   "version": "3.9.12"
  }
 },
 "nbformat": 4,
 "nbformat_minor": 5
}
