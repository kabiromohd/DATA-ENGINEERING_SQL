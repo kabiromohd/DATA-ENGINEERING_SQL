{
 "cells": [
  {
   "cell_type": "code",
   "execution_count": 1,
   "id": "3fb43e88",
   "metadata": {},
   "outputs": [],
   "source": [
    "import random"
   ]
  },
  {
   "cell_type": "code",
   "execution_count": 2,
   "id": "54d66c35",
   "metadata": {},
   "outputs": [
    {
     "name": "stdout",
     "output_type": "stream",
     "text": [
      "3\n",
      "6\n",
      "6\n",
      "3\n",
      "3\n",
      "3\n",
      "5\n",
      "5\n",
      "5\n",
      "5\n",
      "6\n",
      "5\n",
      "6\n",
      "4\n",
      "3\n",
      "6\n",
      "5\n",
      "6\n",
      "6\n",
      "4\n",
      "4\n",
      "3\n",
      "6\n",
      "3\n",
      "6\n",
      "6\n",
      "5\n",
      "6\n",
      "5\n",
      "4\n",
      "4\n",
      "5\n",
      "6\n",
      "3\n",
      "4\n",
      "6\n",
      "6\n",
      "3\n",
      "4\n",
      "4\n",
      "3\n",
      "3\n",
      "5\n",
      "5\n",
      "5\n",
      "3\n",
      "3\n",
      "6\n",
      "3\n",
      "4\n"
     ]
    }
   ],
   "source": [
    "#question 1\n",
    "for m in range(1,51):\n",
    "    aList = random.randint(3,6)\n",
    "    print(aList)"
   ]
  },
  {
   "cell_type": "code",
   "execution_count": 3,
   "id": "19a34b39",
   "metadata": {},
   "outputs": [
    {
     "name": "stdout",
     "output_type": "stream",
     "text": [
      "37\n",
      "2\n",
      "The result of 37 raised to power of 2 is 1369\n"
     ]
    }
   ],
   "source": [
    "#Question 2\n",
    "for n in range(1,2):\n",
    "    x = random.randint(1,50)\n",
    "    print(x)\n",
    "for m in range(1,2):\n",
    "    y=random.randint(2,5)\n",
    "    print(y)\n",
    "product = x**y \n",
    "print(f'The result of {x} raised to power of {y} is {product}')"
   ]
  },
  {
   "cell_type": "code",
   "execution_count": 18,
   "id": "81823b4d",
   "metadata": {},
   "outputs": [
    {
     "name": "stdout",
     "output_type": "stream",
     "text": [
      "The random number is 8\n",
      "Printing your name 8 times:\n",
      "Kabir Olawale\n",
      "Kabir Olawale\n",
      "Kabir Olawale\n",
      "Kabir Olawale\n",
      "Kabir Olawale\n",
      "Kabir Olawale\n",
      "Kabir Olawale\n",
      "Kabir Olawale\n"
     ]
    }
   ],
   "source": [
    "#Question 3\n",
    "for n in range(1,2):\n",
    "    x = random.randint(1,10)\n",
    "    print(f'The random number is {x}')\n",
    "    print(f'Printing your name {x} times:')\n",
    "count = 1\n",
    "while count <= x:\n",
    "    print('Kabir Olawale')\n",
    "    count= count+1"
   ]
  },
  {
   "cell_type": "code",
   "execution_count": 17,
   "id": "5ad37f42",
   "metadata": {},
   "outputs": [
    {
     "name": "stdout",
     "output_type": "stream",
     "text": [
      "2.61\n"
     ]
    }
   ],
   "source": [
    "#question 4\n",
    "for n in range(1,2):\n",
    "    x = random.uniform(1,10)\n",
    "    print(round(x,2))"
   ]
  },
  {
   "cell_type": "code",
   "execution_count": null,
   "id": "d8ad449e",
   "metadata": {},
   "outputs": [],
   "source": []
  },
  {
   "cell_type": "code",
   "execution_count": null,
   "id": "409ddd71",
   "metadata": {},
   "outputs": [],
   "source": [
    "#Question 6\n",
    "print('Enter two numbers:')\n",
    "x = int(input('First number'))\n",
    "y = int(input('Second number'))\n",
    "result = abs((x-y))/(x+y)\n",
    "print(f'The result of the computation is {result}')"
   ]
  },
  {
   "cell_type": "code",
   "execution_count": null,
   "id": "edb2734c",
   "metadata": {},
   "outputs": [],
   "source": []
  },
  {
   "cell_type": "code",
   "execution_count": 38,
   "id": "e135f3ed",
   "metadata": {},
   "outputs": [
    {
     "name": "stdout",
     "output_type": "stream",
     "text": [
      "Enter the number of seconds.\n",
      "Number:90\n",
      "90seconds is 1hours and 30seconds.\n"
     ]
    }
   ],
   "source": [
    "#question 8\n",
    "print('Enter the number of seconds.')\n",
    "rawNum = int(input('Number:'))\n",
    "noHr = rawNum//60\n",
    "noSec = rawNum%60\n",
    "print(f'{rawNum}seconds is {noHr}hours and {noSec}seconds.')"
   ]
  },
  {
   "cell_type": "code",
   "execution_count": 43,
   "id": "76448284",
   "metadata": {},
   "outputs": [
    {
     "name": "stdout",
     "output_type": "stream",
     "text": [
      "Enter the number between 1 and 12.\n",
      "Number:8\n",
      "Enter Hour: 8\n",
      "How many hours ahead? 5\n",
      "New Hour is 1 O'Clock\n"
     ]
    }
   ],
   "source": [
    "#question 9\n",
    "print('Enter the number between 1 and 12.')\n",
    "rawInp = int(input('Number:'))\n",
    "if rawInp >= 1 and rawInp <= 12:\n",
    "    remHrs = (12-rawInp)+1\n",
    "    print(f'Enter Hour: {rawInp}')\n",
    "    print(f'How many hours ahead? {remHrs}')\n",
    "    print(\"New Hour is 1 O'Clock\")\n",
    "else:\n",
    "    print(\"Invalid Input\")"
   ]
  },
  {
   "cell_type": "code",
   "execution_count": null,
   "id": "40cb6489",
   "metadata": {},
   "outputs": [],
   "source": [
    "#Question 10a\n",
    "print('Enter a power:')\n",
    "inPow = int(input())\n",
    "proPow = 2**inPow\n",
    "lastDig= proPow%10\n",
    "print(f'The result of 2 raised to power {inPow} is {proPow}')\n",
    "print(f'The last digit of 2 raised to power {inPow} is {lastDig}')"
   ]
  },
  {
   "cell_type": "code",
   "execution_count": 7,
   "id": "949bc841",
   "metadata": {},
   "outputs": [
    {
     "name": "stdout",
     "output_type": "stream",
     "text": [
      "Enter a power:\n",
      "3\n",
      "The result of 2 raised to power 3 is 8\n",
      "The last two digits of 2 raised to power 3 is 8\n"
     ]
    }
   ],
   "source": [
    "#Question 10b\n",
    "print('Enter a power:')\n",
    "inPow = int(input())\n",
    "proPow = 2**inPow\n",
    "lastDig= proPow%100\n",
    "print(f'The result of 2 raised to power {inPow} is {proPow}')\n",
    "print(f'The last two digits of 2 raised to power {inPow} is {lastDig}')"
   ]
  },
  {
   "cell_type": "code",
   "execution_count": 6,
   "id": "e519efbe",
   "metadata": {},
   "outputs": [
    {
     "name": "stdout",
     "output_type": "stream",
     "text": [
      "Enter a power:\n",
      "2\n",
      "Input the number of last digits you want:\n",
      "6\n",
      "The string after adding trailing zeros : 1000000\n",
      "The result of 2 raised to power 2 is 4\n",
      "The last 6 digits of 2 raised to power 2 is 4\n"
     ]
    }
   ],
   "source": [
    "#Question 10c\n",
    "print('Enter a power:')\n",
    "inPow = int(input())\n",
    "proPow = 2**inPow\n",
    "print('Input the number of last digits you want:')\n",
    "numZeros = int(input())\n",
    "paddedString='1'\n",
    "i=0\n",
    "while(i<numZeros):\n",
    "    paddedString+=\"0\"\n",
    "    i+=1\n",
    "#print the padded string\n",
    "print(f\"The string after adding trailing zeros : {paddedString}\")\n",
    "newDivisor = int(paddedString)\n",
    "lastDig= proPow%newDivisor\n",
    "print(f'The result of 2 raised to power {inPow} is {proPow}')\n",
    "print(f'The last {numZeros} digits of 2 raised to power {inPow} is {lastDig}')"
   ]
  },
  {
   "cell_type": "code",
   "execution_count": 33,
   "id": "8d0f10ee",
   "metadata": {},
   "outputs": [
    {
     "name": "stdout",
     "output_type": "stream",
     "text": [
      "Weight? : 70\n",
      "K/P? :k\n",
      "70.0 Kilogram is equivalent to 154.32 Pounds\n"
     ]
    }
   ],
   "source": [
    "# Question 11\n",
    "weight = float(input(\"Weight? : \"))\n",
    "unitWeight = input(\"K/P? :\").lower()\n",
    "if unitWeight == \"k\":\n",
    "    print(weight, \"Kilogram is equivalent to\", round(float(weight)/0.45359237, 2), \"Pounds\")\n",
    "elif unitWeight == \"p\":\n",
    "    print(weight, \"Pound is equivalen to\", round(float(weight)*0.45359237, 2), \"Inches\")\n",
    "else:\n",
    "    print(\"Invalid Input\")"
   ]
  },
  {
   "cell_type": "code",
   "execution_count": 35,
   "id": "db31cdc3",
   "metadata": {},
   "outputs": [
    {
     "name": "stdout",
     "output_type": "stream",
     "text": [
      "Enter a Number to calculate the Factorial: 7\n",
      "Factorial of: 7 is 5040\n"
     ]
    }
   ],
   "source": [
    "#Question 12\n",
    "num = int(input('Enter a Number to calculate the Factorial: '))\n",
    "x = 1\n",
    "for n in range(1, num+1):\n",
    "    x = x*n\n",
    "print(f'Factorial of: {num} is {x}')"
   ]
  },
  {
   "cell_type": "code",
   "execution_count": 31,
   "id": "8590915b",
   "metadata": {},
   "outputs": [
    {
     "name": "stdout",
     "output_type": "stream",
     "text": [
      "Enter a Number (Between 0 and 90): 145\n",
      "Invalid Input\n"
     ]
    }
   ],
   "source": [
    "#Question 13\n",
    "num = int(input('Enter a Number (Between 0 and 90): '))\n",
    "\n",
    "if num >= 0 and num <=90:\n",
    "    sinX = (4*num*(180-num))/(40500-(num*(180-num)))\n",
    "    print(f'Sin of your Number: {num} is: {round(sinX, 4)}')\n",
    "\n",
    "    cosX = 1/sinX\n",
    "    print(f'Cosine of your number: {num} is: {round(cosX, 4)}')\n",
    "\n",
    "    tanX = sinX/cosX\n",
    "    print(f'Tangent of your {num} is: {round(tanX, 4)}')\n",
    "else:\n",
    "    print(\"Invalid Input\")\n"
   ]
  },
  {
   "cell_type": "code",
   "execution_count": 36,
   "id": "68dd2449",
   "metadata": {},
   "outputs": [
    {
     "name": "stdout",
     "output_type": "stream",
     "text": [
      "Enter Angle in Degree (Between 0 and 90): 70\n",
      "Sin of your Number: 70 is: 0.939\n"
     ]
    }
   ],
   "source": [
    "#Question 14\n",
    "num = int(input('Enter Angle in Degree (Between 0 and 90): '))\n",
    "\n",
    "if num >= 0 and num <=90:\n",
    "    sinX = (4*num*(180-num))/(40500-(num*(180-num)))\n",
    "    print(f'Sin of your Number: {num} is: {round(sinX, 4)}')\n",
    "else:\n",
    "    print(\"Invalid Input\")"
   ]
  },
  {
   "cell_type": "code",
   "execution_count": null,
   "id": "2b2adf8f",
   "metadata": {},
   "outputs": [],
   "source": []
  },
  {
   "cell_type": "code",
   "execution_count": null,
   "id": "a8fd9fc5",
   "metadata": {},
   "outputs": [],
   "source": []
  },
  {
   "cell_type": "code",
   "execution_count": null,
   "id": "cd363b02",
   "metadata": {},
   "outputs": [],
   "source": []
  }
 ],
 "metadata": {
  "kernelspec": {
   "display_name": "Python 3 (ipykernel)",
   "language": "python",
   "name": "python3"
  },
  "language_info": {
   "codemirror_mode": {
    "name": "ipython",
    "version": 3
   },
   "file_extension": ".py",
   "mimetype": "text/x-python",
   "name": "python",
   "nbconvert_exporter": "python",
   "pygments_lexer": "ipython3",
   "version": "3.9.12"
  }
 },
 "nbformat": 4,
 "nbformat_minor": 5
}
